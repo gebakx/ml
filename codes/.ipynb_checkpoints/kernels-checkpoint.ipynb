{
 "cells": [
  {
   "cell_type": "markdown",
   "metadata": {},
   "source": [
    "# Kernel Centroids"
   ]
  },
  {
   "cell_type": "markdown",
   "metadata": {},
   "source": [
    "### Data"
   ]
  },
  {
   "cell_type": "code",
   "execution_count": 1,
   "metadata": {},
   "outputs": [],
   "source": [
    "X = [[2.0, 1.0], [1.0, 2.0], [1.0, 5.0], [2.0, 6.0], [5.0, 1.0], [6.0, 2.0], [5.0, 6.0], [6.0, 5.0], [3.0, 3.0], [3.0, 4.0], [4.0, 3.0], [4.0, 4.0], [3.5, 3.5]]\n",
    "Y = ['-1', '-1', '-1', '-1', '-1', '-1', '-1', '-1', '+1', '+1', '+1', '+1', '?']"
   ]
  },
  {
   "cell_type": "markdown",
   "metadata": {},
   "source": [
    "### Model"
   ]
  },
  {
   "cell_type": "code",
   "execution_count": 2,
   "metadata": {},
   "outputs": [],
   "source": [
    "from math import exp\n",
    "from numpy import sign \n",
    "\n",
    "idxp = [i for i in range(len(Y)) if Y[i]=='+1']\n",
    "idxn = [i for i in range(len(Y)) if Y[i]=='-1']\n",
    "\n",
    "# kernel rbf\n",
    "def kernel(x, z, gamma=1):\n",
    "    norma = list(map(lambda a, b: (a - b) ** 2, x, z))\n",
    "    return exp(-gamma * sum(norma) ** 0.5)\n",
    "    \n",
    "kp = [[kernel(X[idxp[i]],X[idxp[j]]) for i in range(len(idxp))] for j in range(len(idxp))]\n",
    "kn = [[kernel(X[idxn[i]],X[idxn[j]]) for i in range(len(idxn))] for j in range(len(idxn))]\n",
    "b = (sum([sum(e) for e in kp]) / len(idxp) ** 2 - sum([sum(e) for e in kn]) / len(idxn) ** 2) / 2"
   ]
  },
  {
   "cell_type": "markdown",
   "metadata": {},
   "source": [
    "### Test"
   ]
  },
  {
   "cell_type": "code",
   "execution_count": 3,
   "metadata": {},
   "outputs": [
    {
     "data": {
      "text/plain": [
       "1.0"
      ]
     },
     "execution_count": 3,
     "metadata": {},
     "output_type": "execute_result"
    }
   ],
   "source": [
    "t = [3.5, 3.5]\n",
    "kp = [kernel(t, X[idxp[i]]) for i in range(len(idxp))]\n",
    "kn = [kernel(t, X[idxn[i]]) for i in range(len(idxn))]\n",
    "sign(sum(kp) / len(idxp) - sum(kn) / len(idxn) - b)"
   ]
  }
 ],
 "metadata": {
  "kernelspec": {
   "display_name": "Python 3",
   "language": "python",
   "name": "python3"
  },
  "language_info": {
   "codemirror_mode": {
    "name": "ipython",
    "version": 3
   },
   "file_extension": ".py",
   "mimetype": "text/x-python",
   "name": "python",
   "nbconvert_exporter": "python",
   "pygments_lexer": "ipython3",
   "version": "3.6.9"
  }
 },
 "nbformat": 4,
 "nbformat_minor": 2
}
